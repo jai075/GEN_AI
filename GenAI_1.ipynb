{
  "nbformat": 4,
  "nbformat_minor": 0,
  "metadata": {
    "colab": {
      "provenance": []
    },
    "kernelspec": {
      "name": "python3",
      "display_name": "Python 3"
    },
    "language_info": {
      "name": "python"
    }
  },
  "cells": [
    {
      "cell_type": "code",
      "execution_count": null,
      "metadata": {
        "colab": {
          "base_uri": "https://localhost:8080/"
        },
        "id": "qXTQpHvt97oP",
        "outputId": "05fcc1c4-9d9a-45fb-b3f2-e765ef2df15f"
      },
      "outputs": [
        {
          "output_type": "stream",
          "name": "stdout",
          "text": [
            "Enter text to translate: hi\n",
            "Enter source language code (e.g., 'en' for English): en\n",
            "Enter target language code (e.g., 'es' for Spanish): es\n",
            "Original text: hi\n",
            "Translated text: hola\n"
          ]
        }
      ],
      "source": [
        "from transformers import MarianMTModel, MarianTokenizer\n",
        "\n",
        "def translate_text(text, src_lang='en', dest_lang='es'):\n",
        "    # Define the model name based on the source and target language\n",
        "    model_name = f'Helsinki-NLP/opus-mt-{src_lang}-{dest_lang}'\n",
        "\n",
        "    # Load the pre-trained model and tokenizer\n",
        "    model = MarianMTModel.from_pretrained(model_name)\n",
        "    tokenizer = MarianTokenizer.from_pretrained(model_name)\n",
        "\n",
        "    # Tokenize the input text and translate\n",
        "    tokens = tokenizer(text, return_tensors=\"pt\", padding=True)\n",
        "    translated_tokens = model.generate(**tokens)\n",
        "\n",
        "    # Decode the translated text\n",
        "    translated_text = tokenizer.decode(translated_tokens[0], skip_special_tokens=True)\n",
        "\n",
        "    return translated_text\n",
        "\n",
        "# Example usage:\n",
        "if __name__ == \"__main__\":\n",
        "    text_to_translate = input(\"Enter text to translate: \")\n",
        "    source_language = input(\"Enter source language code (e.g., 'en' for English): \")\n",
        "    target_language = input(\"Enter target language code (e.g., 'es' for Spanish): \")\n",
        "\n",
        "    translated = translate_text(text_to_translate, source_language, target_language)\n",
        "    print(f\"Original text: {text_to_translate}\")\n",
        "    print(f\"Translated text: {translated}\")\n"
      ]
    },
    {
      "cell_type": "code",
      "source": [
        "from googletrans import Translator\n",
        "\n",
        "def translate_text(text, src_lang='en', dest_lang='es'):\n",
        "    # Initialize the Translator object\n",
        "    translator = Translator()\n",
        "\n",
        "    # Translate the text\n",
        "    translated = translator.translate(text, src=src_lang, dest=dest_lang)\n",
        "\n",
        "    return translated.text\n",
        "\n",
        "# Example usage:\n",
        "if __name__ == \"__main__\":\n",
        "    text_to_translate = input(\"Enter text to translate: \")\n",
        "    source_language = input(\"Enter source language code (e.g., 'en' for English): \")\n",
        "    target_language = input(\"Enter target language code (e.g., 'es' for Spanish): \")\n",
        "\n",
        "    translated = translate_text(text_to_translate, source_language, target_language)\n",
        "    print(f\"Original text: {text_to_translate}\")\n",
        "    print(f\"Translated text: {translated}\")\n"
      ],
      "metadata": {
        "colab": {
          "base_uri": "https://localhost:8080/"
        },
        "id": "gIpBOENpCepO",
        "outputId": "a0a26a64-7359-4301-d8ae-3648e97d0067"
      },
      "execution_count": null,
      "outputs": [
        {
          "output_type": "stream",
          "name": "stdout",
          "text": [
            "Enter text to translate: Hi I am Jaiprakash\n",
            "Enter source language code (e.g., 'en' for English): en\n",
            "Enter target language code (e.g., 'es' for Spanish): ta\n",
            "Original text: Hi I am Jaiprakash\n",
            "Translated text: ஹாய் நான் ஜெய்ப்ரகாஷ்\n"
          ]
        }
      ]
    },
    {
      "cell_type": "code",
      "source": [],
      "metadata": {
        "id": "k3Z5aIhzJ9vH"
      },
      "execution_count": null,
      "outputs": []
    }
  ]
}